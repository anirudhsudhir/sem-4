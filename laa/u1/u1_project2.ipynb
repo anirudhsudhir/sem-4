{
 "cells": [
  {
   "cell_type": "code",
   "execution_count": 14,
   "id": "4d946896-2d43-4695-a731-aee37e8b7bea",
   "metadata": {},
   "outputs": [
    {
     "name": "stderr",
     "output_type": "stream",
     "text": [
      "Matplotlib is building the font cache; this may take a moment.\n",
      "/var/folders/pt/3f3p71yn6yz977k4h6hkbm280000gn/T/ipykernel_77758/2119507775.py:4: DeprecationWarning: Starting with ImageIO v3 the behavior of this function will switch to that of iio.v3.imread. To keep the current behavior (and make this warning disappear) use `import imageio.v2 as imageio` or call `imageio.v2.imread` directly.\n",
      "  ImJPG=imread('einstein.jpg');\n"
     ]
    }
   ],
   "source": [
    "from imageio import imread\n",
    "from matplotlib import pyplot as plt\n",
    "# Load a grayscale jpg file and represent the data as a matrix\n",
    "ImJPG=imread('einstein.jpg');\n"
   ]
  },
  {
   "cell_type": "code",
   "execution_count": null,
   "id": "662fa66c-ed5a-475b-803a-823c828f49b5",
   "metadata": {},
   "outputs": [],
   "source": []
  }
 ],
 "metadata": {
  "kernelspec": {
   "display_name": "Python 3 (ipykernel)",
   "language": "python",
   "name": "python3"
  },
  "language_info": {
   "codemirror_mode": {
    "name": "ipython",
    "version": 3
   },
   "file_extension": ".py",
   "mimetype": "text/x-python",
   "name": "python",
   "nbconvert_exporter": "python",
   "pygments_lexer": "ipython3",
   "version": "3.13.1"
  }
 },
 "nbformat": 4,
 "nbformat_minor": 5
}
