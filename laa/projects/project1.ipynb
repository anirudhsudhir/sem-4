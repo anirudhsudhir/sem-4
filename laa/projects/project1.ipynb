{
 "cells": [
  {
   "cell_type": "code",
   "execution_count": 3,
   "id": "a934649f-03de-48e7-bc88-f44014d80609",
   "metadata": {},
   "outputs": [
    {
     "name": "stdout",
     "output_type": "stream",
     "text": [
      "A: [[  1   2 -10   4]\n",
      " [  3   4   5  -6]\n",
      " [  3   3  -2   5]]\n",
      "B: [3 3 4 2]\n"
     ]
    }
   ],
   "source": [
    "import numpy as np\n",
    "A = np.array([[1, 2, -10, 4], [3, 4, 5, -6], [3, 3, -2, 5]])\n",
    "B = np.array([3, 3, 4, 2])\n",
    "print(\"A:\", A)\n",
    "print(\"B:\", B)"
   ]
  },
  {
   "cell_type": "code",
   "execution_count": 6,
   "id": "d668286a-6fe8-475d-b39f-d3e484ded9cd",
   "metadata": {},
   "outputs": [
    {
     "name": "stdout",
     "output_type": "stream",
     "text": [
      "lengthA: 4\n",
      "lengthB: 4\n"
     ]
    }
   ],
   "source": [
    "# function to determine length\n",
    "def length(matrix):\n",
    "    return max(matrix.shape)\n",
    "# Length of A and B\n",
    "lengthA = length(A)\n",
    "lengthB = length(B)\n",
    "print(\"lengthA:\", lengthA)\n",
    "print(\"lengthB:\", lengthB)"
   ]
  },
  {
   "cell_type": "code",
   "execution_count": 7,
   "id": "b96aa34e-cf1a-4749-9d59-2bd3475c195c",
   "metadata": {},
   "outputs": [
    {
     "name": "stdout",
     "output_type": "stream",
     "text": [
      "C: [[  1   2 -10   4]\n",
      " [  3   4   5  -6]\n",
      " [  3   3  -2   5]\n",
      " [  3   3   4   2]]\n"
     ]
    }
   ],
   "source": [
    "# Add B as the fourth row of A and create the new matrix C\n",
    "C = np.vstack((A, B))\n",
    "print(\"C:\", C)"
   ]
  },
  {
   "cell_type": "code",
   "execution_count": 8,
   "id": "fc908be8-2194-47fe-b093-d63112c55771",
   "metadata": {},
   "outputs": [
    {
     "name": "stdout",
     "output_type": "stream",
     "text": [
      "D: [[ 5 -6]\n",
      " [-2  5]\n",
      " [ 4  2]]\n"
     ]
    }
   ],
   "source": [
    "# Create D from rows 2, 3, 4 and columns 3, 4 of C\n",
    "D = C[1:4, 2:4]\n",
    "print(\"D:\", D)\n",
    "Variables: D"
   ]
  },
  {
   "cell_type": "code",
   "execution_count": 9,
   "id": "94a38af4-edb8-4e1a-973d-37951898020b",
   "metadata": {},
   "outputs": [
    {
     "name": "stdout",
     "output_type": "stream",
     "text": [
      "E: [[ 5 -2  4]\n",
      " [-6  5  2]]\n"
     ]
    }
   ],
   "source": [
    "# Transpose D to create E\n",
    "E = D.T\n",
    "print(\"E:\", E)"
   ]
  },
  {
   "cell_type": "code",
   "execution_count": 11,
   "id": "26ede788-2415-477e-a56a-581919e0be26",
   "metadata": {},
   "outputs": [
    {
     "name": "stdout",
     "output_type": "stream",
     "text": [
      "m: 2\n",
      "n: 3\n"
     ]
    }
   ],
   "source": [
    "# Check the size of E\n",
    "m, n = E.shape\n",
    "print(\"m:\", m)\n",
    "print(\"n:\", n)"
   ]
  },
  {
   "cell_type": "code",
   "execution_count": 13,
   "id": "03d4fb59-4c5e-4b82-a2f6-cdbd6744d1ca",
   "metadata": {},
   "outputs": [
    {
     "name": "stdout",
     "output_type": "stream",
     "text": [
      "EqualSpaced: [0.         0.31415927 0.62831853 0.9424778  1.25663706 1.57079633\n",
      " 1.88495559 2.19911486 2.51327412 2.82743339 3.14159265 3.45575192\n",
      " 3.76991118 4.08407045 4.39822972 4.71238898 5.02654825 5.34070751\n",
      " 5.65486678 5.96902604]\n",
      "EqualSpaced1: [0.         0.31415927 0.62831853 0.9424778  1.25663706 1.57079633\n",
      " 1.88495559 2.19911486 2.51327412 2.82743339 3.14159265 3.45575192\n",
      " 3.76991118 4.08407045 4.39822972 4.71238898 5.02654825 5.34070751\n",
      " 5.65486678 5.96902604 6.28318531]\n"
     ]
    }
   ],
   "source": [
    "# Create equally spaced vectors using arange and linspace\n",
    "EqualSpaced = np.arange(0, 2 * np.pi, np.pi / 10)\n",
    "EqualSpaced1 = np.linspace(0, 2 * np.pi, 21)\n",
    "print(\"EqualSpaced:\", EqualSpaced)\n",
    "print(\"EqualSpaced1:\", EqualSpaced1)"
   ]
  },
  {
   "cell_type": "code",
   "execution_count": 15,
   "id": "098d18b2-7e04-4be2-8ae3-d040733a7187",
   "metadata": {},
   "outputs": [
    {
     "name": "stdout",
     "output_type": "stream",
     "text": [
      "maxcolA: [3 4 5 5]\n",
      "mincolA: [  1   2 -10  -6]\n"
     ]
    }
   ],
   "source": [
    "# Find the maximum and minimum in each column of A\n",
    "maxcolA = np.max(A, axis=0)\n",
    "mincolA = np.min(A, axis=0)\n",
    "print(\"maxcolA:\", maxcolA)\n",
    "print(\"mincolA:\", mincolA)"
   ]
  },
  {
   "cell_type": "code",
   "execution_count": 16,
   "id": "94bdc5bb-0303-42ff-a3d6-56ae61beaed6",
   "metadata": {},
   "outputs": [
    {
     "name": "stdout",
     "output_type": "stream",
     "text": [
      "maxrowA: [4 5 5]\n",
      "minrowA: [-10  -6  -2]\n",
      "maxA: 5\n",
      "minA: -10\n"
     ]
    }
   ],
   "source": [
    "# Find the maximum and minimum in each row of A\n",
    "maxrowA = np.max(A, axis=1)\n",
    "minrowA = np.min(A, axis=1)\n",
    "# Find the maximum and minimum elements in the entire matrix A\n",
    "maxA = np.max(A)\n",
    "minA = np.min(A)\n",
    "print(\"maxrowA:\", maxrowA)\n",
    "print(\"minrowA:\", minrowA)\n",
    "print(\"maxA:\", maxA)\n",
    "print(\"minA:\", minA)"
   ]
  },
  {
   "cell_type": "code",
   "execution_count": 19,
   "id": "ea81164a-de1a-4886-b87e-7107510e8532",
   "metadata": {},
   "outputs": [
    {
     "name": "stdout",
     "output_type": "stream",
     "text": [
      "meancolA: [ 2.33333333  3.         -2.33333333  1.        ]\n",
      "meanrowA: [-0.75  1.5   2.25]\n",
      "sumcolA: [ 7  9 -7  3]\n",
      "sumrowA: [-3  6  9]\n",
      "meanA: 1.0\n"
     ]
    }
   ],
   "source": [
    "# Calculate mean and sum in each column and row of A\n",
    "meancolA = np.mean(A, axis=0)\n",
    "meanrowA = np.mean(A, axis=1)\n",
    "sumcolA = np.sum(A, axis=0)\n",
    "sumrowA = np.sum(A, axis=1)\n",
    "# Calculate mean and sum of all elements in A\n",
    "meanA = np.mean(A)\n",
    "sumA = np.sum(A)\n",
    "print(\"meancolA:\", meancolA)\n",
    "print(\"meanrowA:\", meanrowA)\n",
    "print(\"sumcolA:\", sumcolA)\n",
    "print(\"sumrowA:\", sumrowA)\n",
    "print(\"meanA:\", meanA)"
   ]
  },
  {
   "cell_type": "code",
   "execution_count": 20,
   "id": "e85a88aa-e235-45cb-bf76-fabab29073de",
   "metadata": {},
   "outputs": [
    {
     "name": "stdout",
     "output_type": "stream",
     "text": [
      "F: [[ 1  1  2]\n",
      " [ 1  4  0]\n",
      " [ 2 -2 -4]\n",
      " [ 1 -2  0]\n",
      " [ 3 -2  4]]\n",
      "G: [[ 1  3 -2]\n",
      " [-3  3  2]\n",
      " [ 1 -3  0]\n",
      " [-1 -3  4]\n",
      " [ 1  1 -2]]\n"
     ]
    }
   ],
   "source": [
    "# Create matrices F and G with random integers from -4 to 4\n",
    "F = np.random.randint(-4, 5, (5, 3))\n",
    "G = np.random.randint(-4, 5, (5, 3))\n",
    "print(\"F:\", F)\n",
    "print(\"G:\", G)"
   ]
  },
  {
   "cell_type": "code",
   "execution_count": 22,
   "id": "995a5279-9dd3-493e-b320-4fc605b9d5cc",
   "metadata": {},
   "outputs": [
    {
     "name": "stdout",
     "output_type": "stream",
     "text": [
      "ScMultF: [[ 0.4  0.4  0.8]\n",
      " [ 0.4  1.6  0. ]\n",
      " [ 0.8 -0.8 -1.6]\n",
      " [ 0.4 -0.8  0. ]\n",
      " [ 1.2 -0.8  1.6]]\n",
      "SumFG: [[ 2  4  0]\n",
      " [-2  7  2]\n",
      " [ 3 -5 -4]\n",
      " [ 0 -5  4]\n",
      " [ 4 -1  2]]\n",
      "DiffFG: [[ 0 -2  4]\n",
      " [ 4  1 -2]\n",
      " [ 1  1 -4]\n",
      " [ 2  1 -4]\n",
      " [ 2 -3  6]]\n",
      "ElProdFG: [[ 1  3 -4]\n",
      " [-3 12  0]\n",
      " [ 2  6  0]\n",
      " [-1  6  0]\n",
      " [ 3 -2 -8]]\n"
     ]
    }
   ],
   "source": [
    "# Perform scalar multiplication, addition, subtraction, and element-wise multiplication on F and G\n",
    "ScMultF = 0.4 * F\n",
    "SumFG = F + G\n",
    "DiffFG = F - G\n",
    "ElProdFG = F * G\n",
    "print(\"ScMultF:\", ScMultF)\n",
    "print(\"SumFG:\", SumFG)\n",
    "print(\"DiffFG:\", DiffFG)\n",
    "print(\"ElProdFG:\", ElProdFG)"
   ]
  },
  {
   "cell_type": "code",
   "execution_count": 25,
   "id": "9fc6cf09-d21e-45c1-9692-967f53a452c2",
   "metadata": {},
   "outputs": [
    {
     "name": "stdout",
     "output_type": "stream",
     "text": [
      "sizeF: (5, 3)\n",
      "sizeA: (3, 4)\n"
     ]
    }
   ],
   "source": [
    "# Check the size of F \n",
    "sizeF = F.shape\n",
    "sizeA = A.shape\n",
    "print(\"sizeF:\", sizeF)\n",
    "print(\"sizeA:\", sizeA)"
   ]
  },
  {
   "cell_type": "code",
   "execution_count": 27,
   "id": "e2292fca-25a9-4641-9ab0-2c09d96258bf",
   "metadata": {},
   "outputs": [
    {
     "name": "stdout",
     "output_type": "stream",
     "text": [
      "H: [[ 10  12  -9   8]\n",
      " [ 13  18  10 -20]\n",
      " [-16 -16 -22   0]\n",
      " [ -5  -6 -20  16]\n",
      " [  9  10 -48  44]]\n"
     ]
    }
   ],
   "source": [
    "# Perform matrix multiplication of F and A if dimensions are compatible\n",
    "if sizeF[1] == sizeA[0]:\n",
    "    H = F @ A\n",
    "    print(\"H:\", H)\n",
    "else:\n",
    "    print(\"Cannot multiply F and A due to incompatible dimensions.\")"
   ]
  },
  {
   "cell_type": "code",
   "execution_count": 28,
   "id": "4e2d1732-4fcd-4e28-8bd6-b9d054887966",
   "metadata": {},
   "outputs": [
    {
     "name": "stdout",
     "output_type": "stream",
     "text": [
      "eye33: [[1. 0. 0.]\n",
      " [0. 1. 0.]\n",
      " [0. 0. 1.]]\n"
     ]
    }
   ],
   "source": [
    "# Generate the identity matrix with 3 rows and 3 columns\n",
    "eye33 = np.eye(3)\n",
    "print(\"eye33:\", eye33)"
   ]
  },
  {
   "cell_type": "code",
   "execution_count": 31,
   "id": "680df9ec-2023-4402-93f6-10d53afd6792",
   "metadata": {},
   "outputs": [
    {
     "name": "stdout",
     "output_type": "stream",
     "text": [
      "zeros53: [[0. 0. 0.]\n",
      " [0. 0. 0.]\n",
      " [0. 0. 0.]\n",
      " [0. 0. 0.]\n",
      " [0. 0. 0.]]\n",
      "ones42: [[1. 1.]\n",
      " [1. 1.]\n",
      " [1. 1.]\n",
      " [1. 1.]]\n"
     ]
    }
   ],
   "source": [
    "# Generate matrices of zeros with size 5x3 and ones with size 4x2\n",
    "zeros53 = np.zeros((5, 3))\n",
    "ones42 = np.ones((4, 2))\n",
    "print(\"zeros53:\", zeros53)\n",
    "print(\"ones42:\", ones42)"
   ]
  },
  {
   "cell_type": "code",
   "execution_count": 33,
   "id": "d25401ed-fbfb-468d-98f2-e5975e1392e6",
   "metadata": {},
   "outputs": [
    {
     "name": "stdout",
     "output_type": "stream",
     "text": [
      "S: [[1 0 0]\n",
      " [0 2 0]\n",
      " [0 0 7]]\n"
     ]
    }
   ],
   "source": [
    "# Generate a diagonal matrix S with the diagonal elements 1, 2, 7\n",
    "S = np.diag([1, 2, 7])\n",
    "print(\"S:\", S)"
   ]
  },
  {
   "cell_type": "code",
   "execution_count": 35,
   "id": "846d24f3-6e02-402f-a8ef-56a0d4fad36d",
   "metadata": {},
   "outputs": [
    {
     "name": "stdout",
     "output_type": "stream",
     "text": [
      "R: [[0.16226377 0.65341643 0.86449464 0.18903341 0.44460324 0.63042851]\n",
      " [0.23035967 0.38148344 0.15937264 0.39421354 0.66522932 0.53341004]\n",
      " [0.63040204 0.52162832 0.609662   0.53664909 0.12296551 0.25426507]\n",
      " [0.79525655 0.25757019 0.72323724 0.5327975  0.30349005 0.06125677]\n",
      " [0.66301873 0.4715359  0.90176286 0.85339946 0.0579648  0.76787098]\n",
      " [0.69533427 0.40877224 0.4279919  0.14680036 0.07241521 0.42011208]]\n",
      "diagR: [0.16226377 0.38148344 0.609662   0.5327975  0.0579648  0.42011208]\n"
     ]
    }
   ],
   "source": [
    "# Extract the diagonal elements from a random 6x6 matrix\n",
    "R = np.random.rand(6, 6)\n",
    "diagR = np.diag(R)\n",
    "print(\"R:\", R)\n",
    "print(\"diagR:\", diagR)"
   ]
  },
  {
   "cell_type": "code",
   "execution_count": 38,
   "id": "802ee67e-5bed-4588-bfc7-b20a1c574087",
   "metadata": {},
   "outputs": [
    {
     "name": "stdout",
     "output_type": "stream",
     "text": [
      "diag121: [[ 2. -1.  0.  0.  0.  0.  0.  0.  0.  0.]\n",
      " [-1.  2. -1.  0.  0.  0.  0.  0.  0.  0.]\n",
      " [ 0. -1.  2. -1.  0.  0.  0.  0.  0.  0.]\n",
      " [ 0.  0. -1.  2. -1.  0.  0.  0.  0.  0.]\n",
      " [ 0.  0.  0. -1.  2. -1.  0.  0.  0.  0.]\n",
      " [ 0.  0.  0.  0. -1.  2. -1.  0.  0.  0.]\n",
      " [ 0.  0.  0.  0.  0. -1.  2. -1.  0.  0.]\n",
      " [ 0.  0.  0.  0.  0.  0. -1.  2. -1.  0.]\n",
      " [ 0.  0.  0.  0.  0.  0.  0. -1.  2. -1.]\n",
      " [ 0.  0.  0.  0.  0.  0.  0.  0. -1.  2.]]\n"
     ]
    }
   ],
   "source": [
    "# Create a sparse diagonal matrix and convert to dense\n",
    "from scipy.sparse import diags\n",
    "diag121 = diags([-np.ones(10), 2*np.ones(10), -np.ones(10)], [-1, 0, 1], shape=(10,\n",
    "10)).todense()\n",
    "print(\"diag121:\", diag121)"
   ]
  }
 ],
 "metadata": {
  "kernelspec": {
   "display_name": "Python 3 (ipykernel)",
   "language": "python",
   "name": "python3"
  },
  "language_info": {
   "codemirror_mode": {
    "name": "ipython",
    "version": 3
   },
   "file_extension": ".py",
   "mimetype": "text/x-python",
   "name": "python",
   "nbconvert_exporter": "python",
   "pygments_lexer": "ipython3",
   "version": "3.13.1"
  }
 },
 "nbformat": 4,
 "nbformat_minor": 5
}
